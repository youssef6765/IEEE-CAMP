{
 "cells": [
  {
   "cell_type": "code",
   "execution_count": 8,
   "id": "5258e05a",
   "metadata": {},
   "outputs": [],
   "source": [
    "import pandas as pd\n",
    "import numpy as np\n",
    "import matplotlib.pyplot as plt\n",
    "import seaborn as sns\n",
    "from datetime import datetime\n",
    "import warnings\n",
    "warnings.filterwarnings('ignore')\n",
    "\n",
    "from sklearn.preprocessing import StandardScaler\n",
    "from sklearn.metrics import mean_squared_error, r2_score\n",
    "from xgboost import XGBRegressor\n",
    "\n"
   ]
  },
  {
   "cell_type": "code",
   "execution_count": 9,
   "id": "af65382c",
   "metadata": {},
   "outputs": [
    {
     "name": "stdout",
     "output_type": "stream",
     "text": [
      "Training set shape: (21044, 20)\n",
      "Testing set shape: (5261, 20)\n"
     ]
    }
   ],
   "source": [
    "train_df = pd.read_csv('../Data/Processed_Train_Resource_utilization.csv')\n",
    "test_df = pd.read_csv('../Data/Processed_Test_Resource_utilization.csv')\n",
    "\n",
    "print(f\"Training set shape: {train_df.shape}\")\n",
    "print(f\"Testing set shape: {test_df.shape}\")"
   ]
  },
  {
   "cell_type": "code",
   "execution_count": 10,
   "id": "44f9c9ff",
   "metadata": {},
   "outputs": [],
   "source": [
    "features = [\n",
    "    'cpu_utilization', 'memory_usage', 'storage_usage', 'hour_of_day', 'day_index',\n",
    "    'workload_lag_1', 'workload_lag_2', 'workload_lag_3',\n",
    "    'workload_rolling_mean_3', 'workload_rolling_std_3', 'workload_expanding_mean',\n",
    "    'cpu_utilization_lag_1', 'cpu_utilization_lag_2', 'cpu_utilization_lag_3',\n",
    "    'cpu_utilization_expanding_mean'\n",
    "]\n",
    "\n",
    "X_train = train_df[features]\n",
    "y_train = train_df['workload']\n",
    "X_test = test_df[features]\n",
    "y_test = test_df['workload']\n",
    "scaler = StandardScaler()\n",
    "X_train_scaled = scaler.fit_transform(X_train)\n",
    "X_test_scaled = scaler.transform(X_test)"
   ]
  },
  {
   "cell_type": "code",
   "execution_count": 11,
   "id": "ec5ec33a",
   "metadata": {},
   "outputs": [
    {
     "name": "stdout",
     "output_type": "stream",
     "text": [
      "\n",
      "Feature Importance:\n",
      "                           Feature  Importance\n",
      "0                  cpu_utilization    0.517359\n",
      "3                      hour_of_day    0.180240\n",
      "1                     memory_usage    0.118703\n",
      "5                   workload_lag_1    0.029104\n",
      "6                   workload_lag_2    0.029017\n",
      "12           cpu_utilization_lag_2    0.023319\n",
      "7                   workload_lag_3    0.022435\n",
      "13           cpu_utilization_lag_3    0.022287\n",
      "11           cpu_utilization_lag_1    0.022109\n",
      "2                    storage_usage    0.019485\n",
      "4                        day_index    0.015943\n",
      "10         workload_expanding_mean    0.000000\n",
      "9           workload_rolling_std_3    0.000000\n",
      "8          workload_rolling_mean_3    0.000000\n",
      "14  cpu_utilization_expanding_mean    0.000000\n"
     ]
    }
   ],
   "source": [
    "# Use the same train/test split and scaling as above\n",
    "X_train = train_df[features]\n",
    "y_train = train_df['workload']\n",
    "X_test = test_df[features]\n",
    "y_test = test_df['workload']\n",
    "test_timestamps = test_df['timestamp'] if 'timestamp' in test_df.columns else None\n",
    "scaler = StandardScaler()\n",
    "X_train_scaled = scaler.fit_transform(X_train)\n",
    "X_test_scaled = scaler.transform(X_test)\n",
    "\n",
    "model = XGBRegressor(\n",
    "    n_estimators=100,     \n",
    "    max_depth=8,          \n",
    "    learning_rate=0.05,   \n",
    "    subsample=0.8,        \n",
    "    colsample_bytree=0.8, \n",
    "    random_state=42,\n",
    "    objective='reg:squarederror'\n",
    "    )\n",
    "model.fit(X_train_scaled, y_train)\n",
    "\n",
    "y_pred = model.predict(X_test_scaled)\n",
    "\n",
    "feature_importance = pd.DataFrame({\n",
    "    'Feature': features,\n",
    "    'Importance': model.feature_importances_\n",
    "}).sort_values(by='Importance', ascending=False)\n",
    "print(\"\\nFeature Importance:\")\n",
    "print(feature_importance)"
   ]
  },
  {
   "cell_type": "code",
   "execution_count": 12,
   "id": "18e9ce57",
   "metadata": {},
   "outputs": [
    {
     "name": "stdout",
     "output_type": "stream",
     "text": [
      "Mean Squared Error (MSE): 28.2251\n",
      "R² Score: 0.7720\n"
     ]
    }
   ],
   "source": [
    "mse = mean_squared_error(y_test, y_pred)\n",
    "r2 = r2_score(y_test, y_pred)\n",
    "print(f\"Mean Squared Error (MSE): {mse:.4f}\")\n",
    "print(f\"R² Score: {r2:.4f}\")"
   ]
  },
  {
   "cell_type": "code",
   "execution_count": 13,
   "id": "8e8fd57d",
   "metadata": {},
   "outputs": [
    {
     "name": "stdout",
     "output_type": "stream",
     "text": [
      "Accuracy: 0.7720\n"
     ]
    }
   ],
   "source": [
    "accuracy = model.score(X_test_scaled, y_test)\n",
    "print(f\"Accuracy: {accuracy:.4f}\")\n"
   ]
  },
  {
   "cell_type": "code",
   "execution_count": 14,
   "id": "ea6ad46a",
   "metadata": {},
   "outputs": [],
   "source": [
    "df_save = pd.read_csv('../Data/Resource_utilization.csv')\n",
    "train_size = len(train_df)\n",
    "df_save = df_save.iloc[train_size:]\n",
    "df_save['predicted_workload'] = y_pred\n",
    "df_save.to_csv('../Data/Predicted_Resource_utilization.csv', index=False)"
   ]
  },
  {
   "cell_type": "code",
   "execution_count": 15,
   "id": "9fe48351",
   "metadata": {},
   "outputs": [],
   "source": [
    "import joblib\n",
    "import json\n",
    "\n",
    "# Save the trained model\n",
    "joblib.dump(model, \"../Model/xgb_model.pkl\")\n",
    "\n",
    "# Save metrics\n",
    "metrics = {\n",
    "    \"mse\": float(mse),\n",
    "    \"r2\": float(r2),\n",
    "    \"accuracy\": float(accuracy)\n",
    "}\n",
    "with open(\"../Model/model_metrics.json\", \"w\") as f:\n",
    "    json.dump(metrics, f)\n",
    "\n",
    "# Save parameters\n",
    "params = model.get_params()\n",
    "with open(\"../Model/model_params.json\", \"w\") as f:\n",
    "    json.dump(params, f)\n",
    "\n",
    "pred_df = pd.DataFrame({\n",
    "    \"timestamp\": test_timestamps,\n",
    "    \"Actual\": y_test.values,\n",
    "    \"Predicted\": y_pred\n",
    "})\n",
    "pred_df.to_csv(\"../Model/predictions.csv\", index=False)\n",
    "\n",
    "# Save feature importance\n",
    "feature_importance.to_csv(\"../Model/feature_importance.csv\", index=False)    "
   ]
  }
 ],
 "metadata": {
  "kernelspec": {
   "display_name": "base",
   "language": "python",
   "name": "python3"
  },
  "language_info": {
   "codemirror_mode": {
    "name": "ipython",
    "version": 3
   },
   "file_extension": ".py",
   "mimetype": "text/x-python",
   "name": "python",
   "nbconvert_exporter": "python",
   "pygments_lexer": "ipython3",
   "version": "3.13.5"
  }
 },
 "nbformat": 4,
 "nbformat_minor": 5
}
