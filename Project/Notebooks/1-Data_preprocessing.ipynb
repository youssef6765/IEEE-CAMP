{
  "cells": [
    {
      "cell_type": "markdown",
      "metadata": {},
      "source": [
        "# Cell 1: Import libraries"
      ]
    },
    {
      "cell_type": "code",
      "execution_count": null,
      "metadata": {
        "id": "IeaCKGinCwQc"
      },
      "outputs": [],
      "source": [
        "\n",
        "import pandas as pd\n",
        "import numpy as np\n",
        "import matplotlib.pyplot as plt\n",
        "import seaborn as sns\n",
        "import warnings\n",
        "warnings.filterwarnings('ignore')\n",
        "from scipy.stats import zscore\n",
        "\n",
        "plt.style.use('default')\n",
        "sns.set_palette(\"husl\")\n",
        "%matplotlib inline"
      ]
    },
    {
      "cell_type": "markdown",
      "metadata": {},
      "source": [
        "# Cell 2: Load data and initial processing\n"
      ]
    },
    {
      "cell_type": "code",
      "execution_count": null,
      "metadata": {
        "colab": {
          "base_uri": "https://localhost:8080/",
          "height": 224
        },
        "id": "QwWi9608DlN2",
        "outputId": "97dd9edc-c46f-4157-d692-88e83ab81f44"
      },
      "outputs": [
        {
          "name": "stdout",
          "output_type": "stream",
          "text": [
            "Dataset shape: (26305, 6)\n"
          ]
        },
        {
          "data": {
            "text/html": [
              "<div>\n",
              "<style scoped>\n",
              "    .dataframe tbody tr th:only-of-type {\n",
              "        vertical-align: middle;\n",
              "    }\n",
              "\n",
              "    .dataframe tbody tr th {\n",
              "        vertical-align: top;\n",
              "    }\n",
              "\n",
              "    .dataframe thead th {\n",
              "        text-align: right;\n",
              "    }\n",
              "</style>\n",
              "<table border=\"1\" class=\"dataframe\">\n",
              "  <thead>\n",
              "    <tr style=\"text-align: right;\">\n",
              "      <th></th>\n",
              "      <th>timestamp</th>\n",
              "      <th>cpu_utilization</th>\n",
              "      <th>memory_usage</th>\n",
              "      <th>storage_usage</th>\n",
              "      <th>workload</th>\n",
              "      <th>Resource Allocation</th>\n",
              "    </tr>\n",
              "  </thead>\n",
              "  <tbody>\n",
              "    <tr>\n",
              "      <th>0</th>\n",
              "      <td>2022-01-01 00:00:00</td>\n",
              "      <td>39.963210</td>\n",
              "      <td>37.120463</td>\n",
              "      <td>77.268825</td>\n",
              "      <td>87.597635</td>\n",
              "      <td>51.911114</td>\n",
              "    </tr>\n",
              "    <tr>\n",
              "      <th>1</th>\n",
              "      <td>2022-01-01 01:00:00</td>\n",
              "      <td>86.060728</td>\n",
              "      <td>51.540619</td>\n",
              "      <td>56.655229</td>\n",
              "      <td>100.000000</td>\n",
              "      <td>61.732726</td>\n",
              "    </tr>\n",
              "    <tr>\n",
              "      <th>2</th>\n",
              "      <td>2022-01-01 02:00:00</td>\n",
              "      <td>68.566681</td>\n",
              "      <td>NaN</td>\n",
              "      <td>62.418368</td>\n",
              "      <td>100.000000</td>\n",
              "      <td>75.685323</td>\n",
              "    </tr>\n",
              "    <tr>\n",
              "      <th>3</th>\n",
              "      <td>2022-01-01 03:00:00</td>\n",
              "      <td>57.903428</td>\n",
              "      <td>51.213742</td>\n",
              "      <td>95.346718</td>\n",
              "      <td>100.000000</td>\n",
              "      <td>67.873120</td>\n",
              "    </tr>\n",
              "    <tr>\n",
              "      <th>4</th>\n",
              "      <td>2022-01-01 04:00:00</td>\n",
              "      <td>NaN</td>\n",
              "      <td>74.822334</td>\n",
              "      <td>84.865431</td>\n",
              "      <td>93.433681</td>\n",
              "      <td>65.148501</td>\n",
              "    </tr>\n",
              "  </tbody>\n",
              "</table>\n",
              "</div>"
            ],
            "text/plain": [
              "            timestamp  cpu_utilization  memory_usage  storage_usage  \\\n",
              "0 2022-01-01 00:00:00        39.963210     37.120463      77.268825   \n",
              "1 2022-01-01 01:00:00        86.060728     51.540619      56.655229   \n",
              "2 2022-01-01 02:00:00        68.566681           NaN      62.418368   \n",
              "3 2022-01-01 03:00:00        57.903428     51.213742      95.346718   \n",
              "4 2022-01-01 04:00:00              NaN     74.822334      84.865431   \n",
              "\n",
              "     workload  Resource Allocation  \n",
              "0   87.597635            51.911114  \n",
              "1  100.000000            61.732726  \n",
              "2  100.000000            75.685323  \n",
              "3  100.000000            67.873120  \n",
              "4   93.433681            65.148501  "
            ]
          },
          "execution_count": 15,
          "metadata": {},
          "output_type": "execute_result"
        }
      ],
      "source": [
        "df = pd.read_csv('../Data/Resource_utilization.csv')\n",
        "df['timestamp'] = pd.to_datetime(df['timestamp'])\n",
        "df = df.sort_values('timestamp').reset_index(drop=True)\n",
        "\n",
        "# Display basic info\n",
        "print(\"Dataset shape:\", df.shape)\n",
        "df.head()"
      ]
    },
    {
      "cell_type": "markdown",
      "metadata": {},
      "source": [
        "# Cell 3: Split data into train and test sets\n"
      ]
    },
    {
      "cell_type": "code",
      "execution_count": null,
      "metadata": {
        "colab": {
          "base_uri": "https://localhost:8080/"
        },
        "id": "gudSAqDqDlKT",
        "outputId": "7acf6fe5-ae3b-421c-cc9d-4ddd20e67187"
      },
      "outputs": [
        {
          "name": "stdout",
          "output_type": "stream",
          "text": [
            "Training set size: 21044\n",
            "Testing set size: 5261\n"
          ]
        }
      ],
      "source": [
        "train_size = int(len(df) * 0.8)\n",
        "train_df = df.iloc[:train_size].copy()\n",
        "test_df = df.iloc[train_size:].copy()\n",
        "\n",
        "print(f\"Training set size: {len(train_df)}\")\n",
        "print(f\"Testing set size: {len(test_df)}\")"
      ]
    },
    {
      "cell_type": "markdown",
      "metadata": {},
      "source": [
        "# Cell 4: Handle missing values using training statistics only\n",
        "## Calculate means from training data"
      ]
    },
    {
      "cell_type": "code",
      "execution_count": null,
      "metadata": {
        "colab": {
          "base_uri": "https://localhost:8080/"
        },
        "id": "BbIoCr4rDlH-",
        "outputId": "7e91b952-badf-4a7a-f007-ec9ec634403e"
      },
      "outputs": [
        {
          "name": "stdout",
          "output_type": "stream",
          "text": [
            "Missing values after handling:\n",
            "Training set:\n",
            "timestamp              0\n",
            "cpu_utilization        0\n",
            "memory_usage           0\n",
            "storage_usage          0\n",
            "workload               0\n",
            "Resource Allocation    0\n",
            "dtype: int64\n",
            "\n",
            "Testing set:\n",
            "timestamp              0\n",
            "cpu_utilization        0\n",
            "memory_usage           0\n",
            "storage_usage          0\n",
            "workload               0\n",
            "Resource Allocation    0\n",
            "dtype: int64\n"
          ]
        }
      ],
      "source": [
        "train_means = train_df[['cpu_utilization', 'memory_usage', 'storage_usage',\n",
        "                        'workload', 'Resource Allocation']].mean()\n",
        "\n",
        "# Fill missing values in training data\n",
        "for col in ['cpu_utilization', 'memory_usage', 'storage_usage', 'workload', 'Resource Allocation']:\n",
        "    train_df[col] = train_df[col].fillna(train_means[col])\n",
        "\n",
        "# Fill missing values in test data using training statistics\n",
        "for col in ['cpu_utilization', 'memory_usage', 'storage_usage', 'workload', 'Resource Allocation']:\n",
        "    test_df[col] = test_df[col].fillna(train_means[col])\n",
        "\n",
        "print(\"Missing values after handling:\")\n",
        "print(\"Training set:\")\n",
        "print(train_df.isnull().sum())\n",
        "print(\"\\nTesting set:\")\n",
        "print(test_df.isnull().sum())"
      ]
    },
    {
      "cell_type": "markdown",
      "metadata": {},
      "source": [
        "# Cell 5: Handle outliers using training statistics only"
      ]
    },
    {
      "cell_type": "code",
      "execution_count": null,
      "metadata": {
        "colab": {
          "base_uri": "https://localhost:8080/"
        },
        "id": "gSP4YUIADlF8",
        "outputId": "12a81297-2f45-4acf-abea-c1afc96cfb09"
      },
      "outputs": [
        {
          "name": "stdout",
          "output_type": "stream",
          "text": [
            "Outliers handled using training statistics only\n"
          ]
        }
      ],
      "source": [
        "for col in ['cpu_utilization', 'memory_usage', 'storage_usage', 'Resource Allocation']:\n",
        "    # Calculate mean and std from training data only\n",
        "    train_mean = train_df[col].mean()\n",
        "    train_std = train_df[col].std()\n",
        "\n",
        "    # Define threshold (3 standard deviations)\n",
        "    threshold = 3 * train_std\n",
        "\n",
        "    # Handle outliers in training data\n",
        "    train_outliers = np.abs(train_df[col] - train_mean) > threshold\n",
        "    if train_outliers.sum() > 0:\n",
        "        train_df.loc[train_outliers, col] = np.nan\n",
        "        train_df[col] = train_df[col].fillna(train_mean)\n",
        "\n",
        "    # Handle outliers in test data using training statistics\n",
        "    test_outliers = np.abs(test_df[col] - train_mean) > threshold\n",
        "    if test_outliers.sum() > 0:\n",
        "        test_df.loc[test_outliers, col] = np.nan\n",
        "        test_df[col] = test_df[col].fillna(train_mean)\n",
        "\n",
        "print(\"Outliers handled using training statistics only\")"
      ]
    },
    {
      "cell_type": "markdown",
      "metadata": {},
      "source": [
        "# Cell 6: Clip values that exceed limits\n"
      ]
    },
    {
      "cell_type": "code",
      "execution_count": null,
      "metadata": {
        "colab": {
          "base_uri": "https://localhost:8080/"
        },
        "id": "ONTH7sdnDlD4",
        "outputId": "85d2e7c1-c731-44c8-dcc8-510dd24419f4"
      },
      "outputs": [
        {
          "name": "stdout",
          "output_type": "stream",
          "text": [
            "Clipping 1378 values in training 'storage_usage' that exceed 100.\n",
            "Clipping 214 values in training 'workload' that exceed 100.\n",
            "Clipping 49 values in test 'workload' that exceed 100.\n"
          ]
        }
      ],
      "source": [
        "metrics_to_clip = {\n",
        "    'cpu_utilization': 100,\n",
        "    'storage_usage': 100,\n",
        "    'workload': 100\n",
        "}\n",
        "\n",
        "for metric, upper_limit in metrics_to_clip.items():\n",
        "    # Clip training data\n",
        "    train_outlier_count = train_df[train_df[metric] > upper_limit].shape[0]\n",
        "    if train_outlier_count > 0:\n",
        "        print(f\"Clipping {train_outlier_count} values in training '{metric}' that exceed {upper_limit}.\")\n",
        "        train_df[metric] = np.clip(train_df[metric], 0, upper_limit)\n",
        "\n",
        "    # Clip test data\n",
        "    test_outlier_count = test_df[test_df[metric] > upper_limit].shape[0]\n",
        "    if test_outlier_count > 0:\n",
        "        print(f\"Clipping {test_outlier_count} values in test '{metric}' that exceed {upper_limit}.\")\n",
        "        test_df[metric] = np.clip(test_df[metric], 0, upper_limit)"
      ]
    },
    {
      "cell_type": "markdown",
      "metadata": {},
      "source": [
        "# Cell 7: Create basic temporal features"
      ]
    },
    {
      "cell_type": "code",
      "execution_count": null,
      "metadata": {
        "colab": {
          "base_uri": "https://localhost:8080/"
        },
        "id": "KKvbfwp_DlB7",
        "outputId": "11ff559a-b74a-4083-f077-11fd1dcccc14"
      },
      "outputs": [
        {
          "name": "stdout",
          "output_type": "stream",
          "text": [
            "Basic temporal features created for both datasets\n"
          ]
        }
      ],
      "source": [
        "for dataset in [train_df, test_df]:\n",
        "    dataset['date_only'] = dataset['timestamp'].dt.date\n",
        "    dataset['hour_of_day'] = dataset['timestamp'].dt.hour\n",
        "    dataset['day_of_week'] = dataset['timestamp'].dt.day_name()\n",
        "    dataset['day_index'] = dataset['timestamp'].dt.dayofweek\n",
        "\n",
        "print(\"Basic temporal features created for both datasets\")"
      ]
    },
    {
      "cell_type": "markdown",
      "metadata": {},
      "source": [
        "# Cell 8: Create lag features safely"
      ]
    },
    {
      "cell_type": "code",
      "execution_count": null,
      "metadata": {
        "colab": {
          "base_uri": "https://localhost:8080/"
        },
        "id": "-68MKfJwDk_s",
        "outputId": "eaabe33b-664b-4efb-d255-5e29bcc2f638"
      },
      "outputs": [
        {
          "name": "stdout",
          "output_type": "stream",
          "text": [
            "Lag features created and NaN values handled\n"
          ]
        }
      ],
      "source": [
        "for dataset in [train_df, test_df]:\n",
        "    for lag in [1, 2, 3]:\n",
        "        dataset[f'workload_lag_{lag}'] = dataset['workload'].shift(lag)\n",
        "        dataset[f'cpu_utilization_lag_{lag}'] = dataset['cpu_utilization'].shift(lag)\n",
        "\n",
        "# Fill NaN values caused by shifting\n",
        "train_df = train_df.ffill().bfill()\n",
        "test_df = test_df.ffill().bfill()\n",
        "\n",
        "print(\"Lag features created and NaN values handled\")"
      ]
    },
    {
      "cell_type": "markdown",
      "metadata": {},
      "source": [
        "# Cell 9: Create rolling features using training statistics only\n",
        "## Calculate rolling statistics from training data"
      ]
    },
    {
      "cell_type": "code",
      "execution_count": null,
      "metadata": {
        "colab": {
          "base_uri": "https://localhost:8080/"
        },
        "id": "JVYC1ufnDk9Z",
        "outputId": "2caee23d-671b-4ca5-dae0-449a81a22372"
      },
      "outputs": [
        {
          "name": "stdout",
          "output_type": "stream",
          "text": [
            "Rolling features created using training statistics only\n"
          ]
        }
      ],
      "source": [
        "workload_rolling_mean = train_df['workload'].shift(1).rolling(window=5).mean().iloc[-1]\n",
        "workload_rolling_std = train_df['workload'].shift(1).rolling(window=5).std().iloc[-1]\n",
        "workload_expanding_mean = train_df['workload'].shift(1).expanding().mean().iloc[-1]\n",
        "cpu_utilization_expanding_mean = train_df['cpu_utilization'].shift(1).expanding().mean().iloc[-1]\n",
        "\n",
        "# Apply these statistics to both datasets\n",
        "for dataset in [train_df, test_df]:\n",
        "    dataset['workload_rolling_mean_3'] = workload_rolling_mean\n",
        "    dataset['workload_rolling_std_3'] = workload_rolling_std\n",
        "    dataset['workload_expanding_mean'] = workload_expanding_mean\n",
        "    dataset['cpu_utilization_expanding_mean'] = cpu_utilization_expanding_mean\n",
        "\n",
        "print(\"Rolling features created using training statistics only\")"
      ]
    },
    {
      "cell_type": "markdown",
      "metadata": {},
      "source": [
        "# Cell 10: Display processed data samples"
      ]
    },
    {
      "cell_type": "code",
      "execution_count": null,
      "metadata": {
        "colab": {
          "base_uri": "https://localhost:8080/",
          "height": 1000
        },
        "id": "bPo3PUCcDk7V",
        "outputId": "b06013bf-4ec3-4193-8ed7-805573e577d5"
      },
      "outputs": [
        {
          "name": "stdout",
          "output_type": "stream",
          "text": [
            "Training data sample:\n",
            "            timestamp  cpu_utilization  memory_usage  storage_usage  \\\n",
            "0 2022-01-01 00:00:00        39.963210     37.120463      77.268825   \n",
            "1 2022-01-01 01:00:00        86.060728     51.540619      56.655229   \n",
            "2 2022-01-01 02:00:00        68.566681     51.642745      62.418368   \n",
            "3 2022-01-01 03:00:00        57.903428     51.213742      95.346718   \n",
            "4 2022-01-01 04:00:00        52.017738     74.822334      84.865431   \n",
            "\n",
            "     workload  Resource Allocation   date_only  hour_of_day day_of_week  \\\n",
            "0   87.597635            51.911114  2022-01-01            0    Saturday   \n",
            "1  100.000000            61.732726  2022-01-01            1    Saturday   \n",
            "2  100.000000            75.685323  2022-01-01            2    Saturday   \n",
            "3  100.000000            67.873120  2022-01-01            3    Saturday   \n",
            "4   93.433681            65.148501  2022-01-01            4    Saturday   \n",
            "\n",
            "   day_index  workload_lag_1  cpu_utilization_lag_1  workload_lag_2  \\\n",
            "0          5       87.597635              39.963210       87.597635   \n",
            "1          5       87.597635              39.963210       87.597635   \n",
            "2          5      100.000000              86.060728       87.597635   \n",
            "3          5      100.000000              68.566681      100.000000   \n",
            "4          5      100.000000              57.903428      100.000000   \n",
            "\n",
            "   cpu_utilization_lag_2  workload_lag_3  cpu_utilization_lag_3  \\\n",
            "0              39.963210       87.597635              39.963210   \n",
            "1              39.963210       87.597635              39.963210   \n",
            "2              39.963210       87.597635              39.963210   \n",
            "3              86.060728       87.597635              39.963210   \n",
            "4              68.566681      100.000000              86.060728   \n",
            "\n",
            "   workload_rolling_mean_3  workload_rolling_std_3  workload_expanding_mean  \\\n",
            "0                 93.22108               10.289666                90.631239   \n",
            "1                 93.22108               10.289666                90.631239   \n",
            "2                 93.22108               10.289666                90.631239   \n",
            "3                 93.22108               10.289666                90.631239   \n",
            "4                 93.22108               10.289666                90.631239   \n",
            "\n",
            "   cpu_utilization_expanding_mean  \n",
            "0                       51.040787  \n",
            "1                       51.040787  \n",
            "2                       51.040787  \n",
            "3                       51.040787  \n",
            "4                       51.040787  \n",
            "\n",
            "Testing data sample:\n"
          ]
        },
        {
          "data": {
            "text/html": [
              "<div>\n",
              "<style scoped>\n",
              "    .dataframe tbody tr th:only-of-type {\n",
              "        vertical-align: middle;\n",
              "    }\n",
              "\n",
              "    .dataframe tbody tr th {\n",
              "        vertical-align: top;\n",
              "    }\n",
              "\n",
              "    .dataframe thead th {\n",
              "        text-align: right;\n",
              "    }\n",
              "</style>\n",
              "<table border=\"1\" class=\"dataframe\">\n",
              "  <thead>\n",
              "    <tr style=\"text-align: right;\">\n",
              "      <th></th>\n",
              "      <th>timestamp</th>\n",
              "      <th>cpu_utilization</th>\n",
              "      <th>memory_usage</th>\n",
              "      <th>storage_usage</th>\n",
              "      <th>workload</th>\n",
              "      <th>Resource Allocation</th>\n",
              "      <th>date_only</th>\n",
              "      <th>hour_of_day</th>\n",
              "      <th>day_of_week</th>\n",
              "      <th>day_index</th>\n",
              "      <th>workload_lag_1</th>\n",
              "      <th>cpu_utilization_lag_1</th>\n",
              "      <th>workload_lag_2</th>\n",
              "      <th>cpu_utilization_lag_2</th>\n",
              "      <th>workload_lag_3</th>\n",
              "      <th>cpu_utilization_lag_3</th>\n",
              "      <th>workload_rolling_mean_3</th>\n",
              "      <th>workload_rolling_std_3</th>\n",
              "      <th>workload_expanding_mean</th>\n",
              "      <th>cpu_utilization_expanding_mean</th>\n",
              "    </tr>\n",
              "  </thead>\n",
              "  <tbody>\n",
              "    <tr>\n",
              "      <th>21044</th>\n",
              "      <td>2024-05-26 20:00:00</td>\n",
              "      <td>89.073537</td>\n",
              "      <td>82.023029</td>\n",
              "      <td>71.581637</td>\n",
              "      <td>100.000000</td>\n",
              "      <td>59.984967</td>\n",
              "      <td>2024-05-26</td>\n",
              "      <td>20</td>\n",
              "      <td>Sunday</td>\n",
              "      <td>6</td>\n",
              "      <td>100.000000</td>\n",
              "      <td>89.073537</td>\n",
              "      <td>100.000000</td>\n",
              "      <td>89.073537</td>\n",
              "      <td>100.0</td>\n",
              "      <td>89.073537</td>\n",
              "      <td>93.22108</td>\n",
              "      <td>10.289666</td>\n",
              "      <td>90.631239</td>\n",
              "      <td>51.040787</td>\n",
              "    </tr>\n",
              "    <tr>\n",
              "      <th>21045</th>\n",
              "      <td>2024-05-26 21:00:00</td>\n",
              "      <td>80.311226</td>\n",
              "      <td>32.940606</td>\n",
              "      <td>83.268913</td>\n",
              "      <td>100.000000</td>\n",
              "      <td>62.032419</td>\n",
              "      <td>2024-05-26</td>\n",
              "      <td>21</td>\n",
              "      <td>Sunday</td>\n",
              "      <td>6</td>\n",
              "      <td>100.000000</td>\n",
              "      <td>89.073537</td>\n",
              "      <td>100.000000</td>\n",
              "      <td>89.073537</td>\n",
              "      <td>100.0</td>\n",
              "      <td>89.073537</td>\n",
              "      <td>93.22108</td>\n",
              "      <td>10.289666</td>\n",
              "      <td>90.631239</td>\n",
              "      <td>51.040787</td>\n",
              "    </tr>\n",
              "    <tr>\n",
              "      <th>21046</th>\n",
              "      <td>2024-05-26 22:00:00</td>\n",
              "      <td>50.430174</td>\n",
              "      <td>38.435092</td>\n",
              "      <td>57.087381</td>\n",
              "      <td>86.527146</td>\n",
              "      <td>48.087431</td>\n",
              "      <td>2024-05-26</td>\n",
              "      <td>22</td>\n",
              "      <td>Sunday</td>\n",
              "      <td>6</td>\n",
              "      <td>100.000000</td>\n",
              "      <td>80.311226</td>\n",
              "      <td>100.000000</td>\n",
              "      <td>89.073537</td>\n",
              "      <td>100.0</td>\n",
              "      <td>89.073537</td>\n",
              "      <td>93.22108</td>\n",
              "      <td>10.289666</td>\n",
              "      <td>90.631239</td>\n",
              "      <td>51.040787</td>\n",
              "    </tr>\n",
              "    <tr>\n",
              "      <th>21047</th>\n",
              "      <td>2024-05-26 23:00:00</td>\n",
              "      <td>79.776902</td>\n",
              "      <td>60.143070</td>\n",
              "      <td>71.869892</td>\n",
              "      <td>100.000000</td>\n",
              "      <td>68.377242</td>\n",
              "      <td>2024-05-26</td>\n",
              "      <td>23</td>\n",
              "      <td>Sunday</td>\n",
              "      <td>6</td>\n",
              "      <td>86.527146</td>\n",
              "      <td>50.430174</td>\n",
              "      <td>100.000000</td>\n",
              "      <td>80.311226</td>\n",
              "      <td>100.0</td>\n",
              "      <td>89.073537</td>\n",
              "      <td>93.22108</td>\n",
              "      <td>10.289666</td>\n",
              "      <td>90.631239</td>\n",
              "      <td>51.040787</td>\n",
              "    </tr>\n",
              "    <tr>\n",
              "      <th>21048</th>\n",
              "      <td>2024-05-27 00:00:00</td>\n",
              "      <td>96.049909</td>\n",
              "      <td>33.641184</td>\n",
              "      <td>89.936842</td>\n",
              "      <td>100.000000</td>\n",
              "      <td>67.763250</td>\n",
              "      <td>2024-05-27</td>\n",
              "      <td>0</td>\n",
              "      <td>Monday</td>\n",
              "      <td>0</td>\n",
              "      <td>100.000000</td>\n",
              "      <td>79.776902</td>\n",
              "      <td>86.527146</td>\n",
              "      <td>50.430174</td>\n",
              "      <td>100.0</td>\n",
              "      <td>80.311226</td>\n",
              "      <td>93.22108</td>\n",
              "      <td>10.289666</td>\n",
              "      <td>90.631239</td>\n",
              "      <td>51.040787</td>\n",
              "    </tr>\n",
              "  </tbody>\n",
              "</table>\n",
              "</div>"
            ],
            "text/plain": [
              "                timestamp  cpu_utilization  memory_usage  storage_usage  \\\n",
              "21044 2024-05-26 20:00:00        89.073537     82.023029      71.581637   \n",
              "21045 2024-05-26 21:00:00        80.311226     32.940606      83.268913   \n",
              "21046 2024-05-26 22:00:00        50.430174     38.435092      57.087381   \n",
              "21047 2024-05-26 23:00:00        79.776902     60.143070      71.869892   \n",
              "21048 2024-05-27 00:00:00        96.049909     33.641184      89.936842   \n",
              "\n",
              "         workload  Resource Allocation   date_only  hour_of_day day_of_week  \\\n",
              "21044  100.000000            59.984967  2024-05-26           20      Sunday   \n",
              "21045  100.000000            62.032419  2024-05-26           21      Sunday   \n",
              "21046   86.527146            48.087431  2024-05-26           22      Sunday   \n",
              "21047  100.000000            68.377242  2024-05-26           23      Sunday   \n",
              "21048  100.000000            67.763250  2024-05-27            0      Monday   \n",
              "\n",
              "       day_index  workload_lag_1  cpu_utilization_lag_1  workload_lag_2  \\\n",
              "21044          6      100.000000              89.073537      100.000000   \n",
              "21045          6      100.000000              89.073537      100.000000   \n",
              "21046          6      100.000000              80.311226      100.000000   \n",
              "21047          6       86.527146              50.430174      100.000000   \n",
              "21048          0      100.000000              79.776902       86.527146   \n",
              "\n",
              "       cpu_utilization_lag_2  workload_lag_3  cpu_utilization_lag_3  \\\n",
              "21044              89.073537           100.0              89.073537   \n",
              "21045              89.073537           100.0              89.073537   \n",
              "21046              89.073537           100.0              89.073537   \n",
              "21047              80.311226           100.0              89.073537   \n",
              "21048              50.430174           100.0              80.311226   \n",
              "\n",
              "       workload_rolling_mean_3  workload_rolling_std_3  \\\n",
              "21044                 93.22108               10.289666   \n",
              "21045                 93.22108               10.289666   \n",
              "21046                 93.22108               10.289666   \n",
              "21047                 93.22108               10.289666   \n",
              "21048                 93.22108               10.289666   \n",
              "\n",
              "       workload_expanding_mean  cpu_utilization_expanding_mean  \n",
              "21044                90.631239                       51.040787  \n",
              "21045                90.631239                       51.040787  \n",
              "21046                90.631239                       51.040787  \n",
              "21047                90.631239                       51.040787  \n",
              "21048                90.631239                       51.040787  "
            ]
          },
          "execution_count": 23,
          "metadata": {},
          "output_type": "execute_result"
        }
      ],
      "source": [
        "print(\"Training data sample:\")\n",
        "print(train_df.head())\n",
        "print(\"\\nTesting data sample:\")\n",
        "test_df.head()"
      ]
    },
    {
      "cell_type": "code",
      "execution_count": 24,
      "metadata": {
        "colab": {
          "base_uri": "https://localhost:8080/"
        },
        "id": "SvFmHCcvDk5H",
        "outputId": "e24402f9-cc8c-4645-c5ba-06b30f1a3a07"
      },
      "outputs": [
        {
          "name": "stdout",
          "output_type": "stream",
          "text": [
            "Processed datasets saved successfully!\n",
            "Training set saved as: ../Data/Processed_Train_Resource_utilization.csv\n",
            "Testing set saved as: ../Data/Processed_Test_Resource_utilization.csv\n"
          ]
        }
      ],
      "source": [
        "# combine and save processed datasets\n",
        "processed_data = pd.concat([train_df, test_df], ignore_index=True)\n",
        "processed_data.to_csv('../Data/Processed_Resource_utilization.csv', index=False)\n",
        "\n",
        "train_df.to_csv('../Data/Processed_Train_Resource_utilization.csv', index=False)\n",
        "test_df.to_csv('../Data/Processed_Test_Resource_utilization.csv', index=False)\n",
        "\n",
        "print(\"Processed datasets saved successfully!\")\n",
        "print(\"Training set saved as: ../Data/Processed_Train_Resource_utilization.csv\")\n",
        "print(\"Testing set saved as: ../Data/Processed_Test_Resource_utilization.csv\")"
      ]
    }
  ],
  "metadata": {
    "colab": {
      "provenance": []
    },
    "kernelspec": {
      "display_name": "base",
      "language": "python",
      "name": "python3"
    },
    "language_info": {
      "codemirror_mode": {
        "name": "ipython",
        "version": 3
      },
      "file_extension": ".py",
      "mimetype": "text/x-python",
      "name": "python",
      "nbconvert_exporter": "python",
      "pygments_lexer": "ipython3",
      "version": "3.13.5"
    }
  },
  "nbformat": 4,
  "nbformat_minor": 0
}
