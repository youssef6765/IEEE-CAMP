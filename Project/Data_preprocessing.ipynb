{
  "cells": [
    {
      "cell_type": "code",
      "execution_count": null,
      "metadata": {},
      "outputs": [],
      "source": [
        "# Cell 2: Import libraries\n",
        "import pandas as pd\n",
        "import numpy as np\n",
        "import matplotlib.pyplot as plt\n",
        "import seaborn as sns\n",
        "import time\n",
        "import warnings\n",
        "warnings.filterwarnings('ignore')\n",
        "from scipy.stats import zscore\n",
        "\n",
        "\n",
        "plt.style.use('default')\n",
        "sns.set_palette(\"husl\")\n",
        "%matplotlib inline"
      ]
    },
    {
      "cell_type": "code",
      "execution_count": 46,
      "metadata": {},
      "outputs": [],
      "source": [
        "df=pd.read_csv('Resource_utilization.csv')"
      ]
    },
    {
      "cell_type": "code",
      "execution_count": 47,
      "metadata": {},
      "outputs": [
        {
          "data": {
            "text/html": [
              "<div>\n",
              "<style scoped>\n",
              "    .dataframe tbody tr th:only-of-type {\n",
              "        vertical-align: middle;\n",
              "    }\n",
              "\n",
              "    .dataframe tbody tr th {\n",
              "        vertical-align: top;\n",
              "    }\n",
              "\n",
              "    .dataframe thead th {\n",
              "        text-align: right;\n",
              "    }\n",
              "</style>\n",
              "<table border=\"1\" class=\"dataframe\">\n",
              "  <thead>\n",
              "    <tr style=\"text-align: right;\">\n",
              "      <th></th>\n",
              "      <th>timestamp</th>\n",
              "      <th>cpu_utilization</th>\n",
              "      <th>memory_usage</th>\n",
              "      <th>storage_usage</th>\n",
              "      <th>workload</th>\n",
              "      <th>Resource Allocation</th>\n",
              "    </tr>\n",
              "  </thead>\n",
              "  <tbody>\n",
              "    <tr>\n",
              "      <th>0</th>\n",
              "      <td>2024-05-15 06:00:00</td>\n",
              "      <td>93.667656</td>\n",
              "      <td>65.739742</td>\n",
              "      <td>81.202149</td>\n",
              "      <td>100.00000</td>\n",
              "      <td>76.398051</td>\n",
              "    </tr>\n",
              "    <tr>\n",
              "      <th>1</th>\n",
              "      <td>2022-03-20 00:00:00</td>\n",
              "      <td>NaN</td>\n",
              "      <td>45.771232</td>\n",
              "      <td>56.178079</td>\n",
              "      <td>96.20153</td>\n",
              "      <td>52.783747</td>\n",
              "    </tr>\n",
              "    <tr>\n",
              "      <th>2</th>\n",
              "      <td>2024-03-31 02:00:00</td>\n",
              "      <td>66.270283</td>\n",
              "      <td>85.537221</td>\n",
              "      <td>61.594411</td>\n",
              "      <td>100.00000</td>\n",
              "      <td>71.699889</td>\n",
              "    </tr>\n",
              "    <tr>\n",
              "      <th>3</th>\n",
              "      <td>2022-10-05 07:00:00</td>\n",
              "      <td>50.305590</td>\n",
              "      <td>55.492008</td>\n",
              "      <td>100.419747</td>\n",
              "      <td>100.00000</td>\n",
              "      <td>69.456805</td>\n",
              "    </tr>\n",
              "    <tr>\n",
              "      <th>4</th>\n",
              "      <td>2022-07-18 08:00:00</td>\n",
              "      <td>58.567954</td>\n",
              "      <td>77.339342</td>\n",
              "      <td>60.446444</td>\n",
              "      <td>100.00000</td>\n",
              "      <td>66.624977</td>\n",
              "    </tr>\n",
              "  </tbody>\n",
              "</table>\n",
              "</div>"
            ],
            "text/plain": [
              "             timestamp  cpu_utilization  memory_usage  storage_usage  \\\n",
              "0  2024-05-15 06:00:00        93.667656     65.739742      81.202149   \n",
              "1  2022-03-20 00:00:00              NaN     45.771232      56.178079   \n",
              "2  2024-03-31 02:00:00        66.270283     85.537221      61.594411   \n",
              "3  2022-10-05 07:00:00        50.305590     55.492008     100.419747   \n",
              "4  2022-07-18 08:00:00        58.567954     77.339342      60.446444   \n",
              "\n",
              "    workload  Resource Allocation  \n",
              "0  100.00000            76.398051  \n",
              "1   96.20153            52.783747  \n",
              "2  100.00000            71.699889  \n",
              "3  100.00000            69.456805  \n",
              "4  100.00000            66.624977  "
            ]
          },
          "execution_count": 47,
          "metadata": {},
          "output_type": "execute_result"
        }
      ],
      "source": [
        "df.head()"
      ]
    },
    {
      "cell_type": "code",
      "execution_count": 48,
      "metadata": {},
      "outputs": [],
      "source": [
        "df['timestamp'] = pd.to_datetime(df['timestamp'])"
      ]
    },
    {
      "cell_type": "code",
      "execution_count": 49,
      "metadata": {},
      "outputs": [
        {
          "data": {
            "text/plain": [
              "timestamp                 0\n",
              "cpu_utilization        2819\n",
              "memory_usage           3071\n",
              "storage_usage          3306\n",
              "workload                  0\n",
              "Resource Allocation    2572\n",
              "dtype: int64"
            ]
          },
          "execution_count": 49,
          "metadata": {},
          "output_type": "execute_result"
        }
      ],
      "source": [
        "df.isnull().sum()"
      ]
    },
    {
      "cell_type": "code",
      "execution_count": 50,
      "metadata": {},
      "outputs": [],
      "source": [
        "for col in ['cpu_utilization', 'memory_usage', 'storage_usage', 'workload', 'Resource Allocation']:\n",
        "    if df[col].isnull().sum() > 0:\n",
        "        df[col] = df[col].ffill()\n",
        "        if df[col].isnull().sum() > 0:\n",
        "            df[col] = df[col].fillna(df[col].mean())"
      ]
    },
    {
      "cell_type": "code",
      "execution_count": 51,
      "metadata": {},
      "outputs": [
        {
          "data": {
            "text/plain": [
              "timestamp              0\n",
              "cpu_utilization        0\n",
              "memory_usage           0\n",
              "storage_usage          0\n",
              "workload               0\n",
              "Resource Allocation    0\n",
              "dtype: int64"
            ]
          },
          "execution_count": 51,
          "metadata": {},
          "output_type": "execute_result"
        }
      ],
      "source": [
        "df.isnull().sum()"
      ]
    },
    {
      "cell_type": "code",
      "execution_count": 52,
      "metadata": {},
      "outputs": [
        {
          "name": "stdout",
          "output_type": "stream",
          "text": [
            "cpu_utilization\n",
            "Resource Allocation\n",
            "Clipping 1594 values in 'storage_usage' that exceed 100.\n",
            "Clipping 263 values in 'workload' that exceed 100.\n"
          ]
        }
      ],
      "source": [
        "for col in ['cpu_utilization', 'memory_usage', 'storage_usage', 'Resource Allocation']:\n",
        "    z = np.abs(zscore(df[col]))\n",
        "    outliers = (z > 3).sum()\n",
        "    if outliers > 0:\n",
        "        print(col)\n",
        "        df.loc[z > 3, col] = np.nan\n",
        "        df[col] = df[col].ffill()\n",
        "        df[col] = df[col].fillna(df[col].mean())\n",
        "\n",
        "metrics_to_clip = {\n",
        "    'cpu_utilization': 100,\n",
        "    'storage_usage': 100,\n",
        "    'workload': 100\n",
        "}\n",
        "\n",
        "for metric, upper_limit in metrics_to_clip.items():\n",
        "    outlier_count = df[df[metric] > upper_limit].shape[0]\n",
        "    if outlier_count > 0:\n",
        "        print(f\"Clipping {outlier_count} values in '{metric}' that exceed {upper_limit}.\")\n",
        "        df[metric] = np.clip(df[metric], 0, upper_limit)\n",
        "\n",
        "df['date_only'] = df['timestamp'].dt.date\n",
        "df['hour_of_day'] = df['timestamp'].dt.hour\n",
        "df['day_of_week'] = df['timestamp'].dt.day_name()\n",
        "df['day_index'] = df['timestamp'].dt.dayofweek"
      ]
    },
    {
      "cell_type": "code",
      "execution_count": 53,
      "metadata": {},
      "outputs": [
        {
          "data": {
            "text/html": [
              "<div>\n",
              "<style scoped>\n",
              "    .dataframe tbody tr th:only-of-type {\n",
              "        vertical-align: middle;\n",
              "    }\n",
              "\n",
              "    .dataframe tbody tr th {\n",
              "        vertical-align: top;\n",
              "    }\n",
              "\n",
              "    .dataframe thead th {\n",
              "        text-align: right;\n",
              "    }\n",
              "</style>\n",
              "<table border=\"1\" class=\"dataframe\">\n",
              "  <thead>\n",
              "    <tr style=\"text-align: right;\">\n",
              "      <th></th>\n",
              "      <th>timestamp</th>\n",
              "      <th>cpu_utilization</th>\n",
              "      <th>memory_usage</th>\n",
              "      <th>storage_usage</th>\n",
              "      <th>workload</th>\n",
              "      <th>Resource Allocation</th>\n",
              "      <th>date_only</th>\n",
              "      <th>hour_of_day</th>\n",
              "      <th>day_of_week</th>\n",
              "      <th>day_index</th>\n",
              "    </tr>\n",
              "  </thead>\n",
              "  <tbody>\n",
              "    <tr>\n",
              "      <th>0</th>\n",
              "      <td>2024-05-15 06:00:00</td>\n",
              "      <td>93.667656</td>\n",
              "      <td>65.739742</td>\n",
              "      <td>81.202149</td>\n",
              "      <td>100.00000</td>\n",
              "      <td>76.398051</td>\n",
              "      <td>2024-05-15</td>\n",
              "      <td>6</td>\n",
              "      <td>Wednesday</td>\n",
              "      <td>2</td>\n",
              "    </tr>\n",
              "    <tr>\n",
              "      <th>1</th>\n",
              "      <td>2022-03-20 00:00:00</td>\n",
              "      <td>93.667656</td>\n",
              "      <td>45.771232</td>\n",
              "      <td>56.178079</td>\n",
              "      <td>96.20153</td>\n",
              "      <td>52.783747</td>\n",
              "      <td>2022-03-20</td>\n",
              "      <td>0</td>\n",
              "      <td>Sunday</td>\n",
              "      <td>6</td>\n",
              "    </tr>\n",
              "    <tr>\n",
              "      <th>2</th>\n",
              "      <td>2024-03-31 02:00:00</td>\n",
              "      <td>66.270283</td>\n",
              "      <td>85.537221</td>\n",
              "      <td>61.594411</td>\n",
              "      <td>100.00000</td>\n",
              "      <td>71.699889</td>\n",
              "      <td>2024-03-31</td>\n",
              "      <td>2</td>\n",
              "      <td>Sunday</td>\n",
              "      <td>6</td>\n",
              "    </tr>\n",
              "    <tr>\n",
              "      <th>3</th>\n",
              "      <td>2022-10-05 07:00:00</td>\n",
              "      <td>50.305590</td>\n",
              "      <td>55.492008</td>\n",
              "      <td>100.000000</td>\n",
              "      <td>100.00000</td>\n",
              "      <td>69.456805</td>\n",
              "      <td>2022-10-05</td>\n",
              "      <td>7</td>\n",
              "      <td>Wednesday</td>\n",
              "      <td>2</td>\n",
              "    </tr>\n",
              "    <tr>\n",
              "      <th>4</th>\n",
              "      <td>2022-07-18 08:00:00</td>\n",
              "      <td>58.567954</td>\n",
              "      <td>77.339342</td>\n",
              "      <td>60.446444</td>\n",
              "      <td>100.00000</td>\n",
              "      <td>66.624977</td>\n",
              "      <td>2022-07-18</td>\n",
              "      <td>8</td>\n",
              "      <td>Monday</td>\n",
              "      <td>0</td>\n",
              "    </tr>\n",
              "  </tbody>\n",
              "</table>\n",
              "</div>"
            ],
            "text/plain": [
              "            timestamp  cpu_utilization  memory_usage  storage_usage  \\\n",
              "0 2024-05-15 06:00:00        93.667656     65.739742      81.202149   \n",
              "1 2022-03-20 00:00:00        93.667656     45.771232      56.178079   \n",
              "2 2024-03-31 02:00:00        66.270283     85.537221      61.594411   \n",
              "3 2022-10-05 07:00:00        50.305590     55.492008     100.000000   \n",
              "4 2022-07-18 08:00:00        58.567954     77.339342      60.446444   \n",
              "\n",
              "    workload  Resource Allocation   date_only  hour_of_day day_of_week  \\\n",
              "0  100.00000            76.398051  2024-05-15            6   Wednesday   \n",
              "1   96.20153            52.783747  2022-03-20            0      Sunday   \n",
              "2  100.00000            71.699889  2024-03-31            2      Sunday   \n",
              "3  100.00000            69.456805  2022-10-05            7   Wednesday   \n",
              "4  100.00000            66.624977  2022-07-18            8      Monday   \n",
              "\n",
              "   day_index  \n",
              "0          2  \n",
              "1          6  \n",
              "2          6  \n",
              "3          2  \n",
              "4          0  "
            ]
          },
          "execution_count": 53,
          "metadata": {},
          "output_type": "execute_result"
        }
      ],
      "source": [
        "df.head()"
      ]
    },
    {
      "cell_type": "code",
      "execution_count": 54,
      "metadata": {},
      "outputs": [],
      "source": [
        "for lag in [1, 2, 3]:\n",
        "    df[f'workload_lag_{lag}'] = df['workload'].shift(lag)\n",
        "    df[f'cpu_utilization_lag_{lag}'] = df['cpu_utilization'].shift(lag)\n",
        "\n",
        "df['workload_rolling_mean_3'] = df['workload'].shift(1).rolling(window=5).mean()\n",
        "df['workload_rolling_std_3'] = df['workload'].shift(1).rolling(window=5).std()\n",
        "df['workload_expanding_mean'] = df['workload'].shift(1).expanding().mean()\n",
        "df['cpu_utilization_expanding_mean'] = df['cpu_utilization'].shift(1).expanding().mean()\n",
        "\n",
        "df = df.ffill().bfill()\n",
        "\n",
        "df = df.sort_values('timestamp')"
      ]
    },
    {
      "cell_type": "code",
      "execution_count": 55,
      "metadata": {},
      "outputs": [],
      "source": [
        "df.to_csv('Processed_Resource_utilization.csv', index=False)"
      ]
    }
  ],
  "metadata": {
    "colab": {
      "provenance": []
    },
    "kernelspec": {
      "display_name": "base",
      "language": "python",
      "name": "python3"
    },
    "language_info": {
      "codemirror_mode": {
        "name": "ipython",
        "version": 3
      },
      "file_extension": ".py",
      "mimetype": "text/x-python",
      "name": "python",
      "nbconvert_exporter": "python",
      "pygments_lexer": "ipython3",
      "version": "3.13.5"
    }
  },
  "nbformat": 4,
  "nbformat_minor": 0
}
