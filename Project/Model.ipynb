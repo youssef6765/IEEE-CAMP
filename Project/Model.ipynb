{
 "cells": [
  {
   "cell_type": "code",
   "execution_count": null,
   "id": "5258e05a",
   "metadata": {},
   "outputs": [],
   "source": [
    "import pandas as pd\n",
    "import numpy as np\n",
    "import matplotlib.pyplot as plt\n",
    "import seaborn as sns\n",
    "from datetime import datetime\n",
    "import warnings\n",
    "warnings.filterwarnings('ignore')\n",
    "\n",
    "from sklearn.preprocessing import StandardScaler\n",
    "from sklearn.metrics import mean_squared_error, r2_score\n",
    "from xgboost import XGBRegressor\n",
    "\n"
   ]
  },
  {
   "cell_type": "code",
   "execution_count": 3,
   "id": "a7d8a5a6",
   "metadata": {},
   "outputs": [],
   "source": [
    "df = pd.read_csv('Processed_Resource_utilization.csv')"
   ]
  },
  {
   "cell_type": "code",
   "execution_count": 4,
   "id": "44f9c9ff",
   "metadata": {},
   "outputs": [],
   "source": [
    "# 3. Define features and target\n",
    "features = [\n",
    "    'cpu_utilization', 'memory_usage', 'storage_usage', 'hour_of_day', 'day_index',\n",
    "    'workload_lag_1', 'workload_lag_2', 'workload_lag_3',\n",
    "    'workload_rolling_mean_3', 'workload_rolling_std_3', 'workload_expanding_mean',\n",
    "    'cpu_utilization_lag_1', 'cpu_utilization_lag_2', 'cpu_utilization_lag_3',\n",
    "    'cpu_utilization_expanding_mean'\n",
    "]\n",
    "X = df[features]\n",
    "y = df['workload']"
   ]
  },
  {
   "cell_type": "code",
   "execution_count": 5,
   "id": "ec5ec33a",
   "metadata": {},
   "outputs": [
    {
     "name": "stdout",
     "output_type": "stream",
     "text": [
      "\n",
      "Feature Importance:\n",
      "                           Feature  Importance\n",
      "0                  cpu_utilization    0.379023\n",
      "3                      hour_of_day    0.216572\n",
      "1                     memory_usage    0.119166\n",
      "11           cpu_utilization_lag_1    0.050615\n",
      "5                   workload_lag_1    0.024197\n",
      "9           workload_rolling_std_3    0.023024\n",
      "13           cpu_utilization_lag_3    0.022516\n",
      "8          workload_rolling_mean_3    0.021907\n",
      "6                   workload_lag_2    0.021558\n",
      "10         workload_expanding_mean    0.021228\n",
      "2                    storage_usage    0.020910\n",
      "12           cpu_utilization_lag_2    0.020854\n",
      "14  cpu_utilization_expanding_mean    0.020542\n",
      "7                   workload_lag_3    0.019598\n",
      "4                        day_index    0.018290\n"
     ]
    }
   ],
   "source": [
    "train_size = int(0.8 * len(df))\n",
    "X_train = X.iloc[:train_size]\n",
    "y_train = y.iloc[:train_size]\n",
    "X_test = X.iloc[train_size:]\n",
    "y_test = y.iloc[train_size:]\n",
    "test_timestamps = df['timestamp'].iloc[train_size:]\n",
    "\n",
    "scaler = StandardScaler()\n",
    "X_train_scaled = scaler.fit_transform(X_train)\n",
    "X_test_scaled = scaler.transform(X_test)\n",
    "\n",
    "model = XGBRegressor(\n",
    "    n_estimators=500,     \n",
    "    max_depth=6,          \n",
    "    learning_rate=0.05,   \n",
    "    subsample=0.8,        \n",
    "    colsample_bytree=0.8, \n",
    "    random_state=42,\n",
    "    objective='reg:squarederror'\n",
    ")\n",
    "model.fit(X_train_scaled, y_train)\n",
    "\n",
    "y_pred = model.predict(X_test_scaled)\n",
    "\n",
    "feature_importance = pd.DataFrame({\n",
    "    'Feature': features,\n",
    "    'Importance': model.feature_importances_\n",
    "}).sort_values(by='Importance', ascending=False)\n",
    "print(\"\\nFeature Importance:\")\n",
    "print(feature_importance)\n"
   ]
  },
  {
   "cell_type": "code",
   "execution_count": 6,
   "id": "18e9ce57",
   "metadata": {},
   "outputs": [
    {
     "name": "stdout",
     "output_type": "stream",
     "text": [
      "Mean Squared Error (MSE): 34.0071\n",
      "R² Score: 0.7253\n"
     ]
    }
   ],
   "source": [
    "mse = mean_squared_error(y_test, y_pred)\n",
    "r2 = r2_score(y_test, y_pred)\n",
    "print(f\"Mean Squared Error (MSE): {mse:.4f}\")\n",
    "print(f\"R² Score: {r2:.4f}\")"
   ]
  },
  {
   "cell_type": "code",
   "execution_count": 7,
   "id": "8e8fd57d",
   "metadata": {},
   "outputs": [
    {
     "name": "stdout",
     "output_type": "stream",
     "text": [
      "Accuracy: 0.7253\n"
     ]
    }
   ],
   "source": [
    "accuracy = model.score(X_test_scaled, y_test)\n",
    "print(f\"Accuracy: {accuracy:.4f}\")\n"
   ]
  },
  {
   "cell_type": "code",
   "execution_count": 8,
   "id": "ea6ad46a",
   "metadata": {},
   "outputs": [],
   "source": [
    "df_save =pd.read_csv('Resource_utilization.csv')\n",
    "#add predicted workload to dataframe\n",
    "df_save = df_save.iloc[train_size:]\n",
    "df_save['predicted_workload'] = y_pred\n",
    "df_save.to_csv('Predicted_Resource_utilization.csv', index=False)"
   ]
  },
  {
   "cell_type": "code",
   "execution_count": 9,
   "id": "9fe48351",
   "metadata": {},
   "outputs": [
    {
     "data": {
      "text/plain": [
       "['workload_model.pkl']"
      ]
     },
     "execution_count": 9,
     "metadata": {},
     "output_type": "execute_result"
    }
   ],
   "source": [
    "import joblib\n",
    "\n",
    "# After training\n",
    "joblib.dump(model, \"workload_model.pkl\")"
   ]
  }
 ],
 "metadata": {
  "kernelspec": {
   "display_name": "base",
   "language": "python",
   "name": "python3"
  },
  "language_info": {
   "codemirror_mode": {
    "name": "ipython",
    "version": 3
   },
   "file_extension": ".py",
   "mimetype": "text/x-python",
   "name": "python",
   "nbconvert_exporter": "python",
   "pygments_lexer": "ipython3",
   "version": "3.13.5"
  }
 },
 "nbformat": 4,
 "nbformat_minor": 5
}
